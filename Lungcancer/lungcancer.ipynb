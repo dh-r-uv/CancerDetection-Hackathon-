{
 "cells": [
  {
   "cell_type": "code",
   "execution_count": 17,
   "metadata": {},
   "outputs": [],
   "source": [
    "import os\n",
    "import random\n",
    "import itertools\n",
    "import numpy as np\n",
    "import pandas as pd\n",
    "import seaborn as sns\n",
    "import tensorflow as tf\n",
    "sns.set_style('darkgrid')\n",
    "from tensorflow import keras\n",
    "import matplotlib.pyplot as plt\n",
    "from tensorflow.keras import regularizers\n",
    "from tensorflow.keras.optimizers import Adam, Adamax\n",
    "from sklearn.model_selection import train_test_split\n",
    "from tensorflow.keras.metrics import categorical_crossentropy\n",
    "from tensorflow.keras.models import Model, load_model, Sequential\n",
    "from sklearn.metrics import confusion_matrix, classification_report\n",
    "from tensorflow.keras.preprocessing.image import ImageDataGenerator\n",
    "from tensorflow.keras.layers import Conv2D, MaxPooling2D, Flatten, Dense, Activation, Dropout, BatchNormalization\n"
   ]
  },
  {
   "cell_type": "code",
   "execution_count": 18,
   "metadata": {},
   "outputs": [],
   "source": [
    "data_dir = 'archive/lung_colon_image_set/lung_image_sets'"
   ]
  },
  {
   "cell_type": "code",
   "execution_count": 19,
   "metadata": {},
   "outputs": [],
   "source": [
    "def define_paths(data_dir):\n",
    "    filepaths = []\n",
    "    labels = []\n",
    "    folds = os.listdir(data_dir)\n",
    "    for fold in folds:\n",
    "        foldpath = os.path.join(data_dir, fold)\n",
    "        filelist = os.listdir(foldpath)\n",
    "        for file in filelist:\n",
    "            fpath = os.path.join(foldpath, file)\n",
    "            filepaths.append(fpath)\n",
    "            labels.append(fold)\n",
    "    return filepaths, labels\n",
    "\n",
    "def define_df(files, classes):\n",
    "    Fseries = pd.Series(files, name= 'filepaths')\n",
    "    Lseries = pd.Series(classes, name='labels')\n",
    "    return pd.concat([Fseries, Lseries], axis= 1)\n",
    "\n",
    "def create_df(data_dir):\n",
    "   \n",
    "    files, classes = define_paths(data_dir)\n",
    "    df = define_df(files, classes)\n",
    "    \n",
    "    strat=df['labels']\n",
    "    train_df, dummy_df=train_test_split(df,  train_size=0.8, shuffle=True, random_state=123, stratify=strat)\n",
    "    \n",
    "    strat = dummy_df['labels']\n",
    "    valid_df, test_df=train_test_split(dummy_df,  train_size=0.5, shuffle=True, random_state=123, stratify=strat)\n",
    "    return train_df, valid_df, test_df\n"
   ]
  },
  {
   "cell_type": "code",
   "execution_count": 20,
   "metadata": {},
   "outputs": [],
   "source": [
    "train_df, valid_df, test_df = create_df(data_dir)"
   ]
  },
  {
   "cell_type": "code",
   "execution_count": 23,
   "metadata": {},
   "outputs": [
    {
     "name": "stdout",
     "output_type": "stream",
     "text": [
      "Found 4799 validated image filenames belonging to 3 classes.\n",
      "Found 600 validated image filenames belonging to 3 classes.\n",
      "Found 601 validated image filenames belonging to 3 classes.\n"
     ]
    },
    {
     "name": "stderr",
     "output_type": "stream",
     "text": [
      "C:\\Users\\Dhruv Kothari\\AppData\\Local\\Packages\\PythonSoftwareFoundation.Python.3.10_qbz5n2kfra8p0\\LocalCache\\local-packages\\Python310\\site-packages\\keras\\preprocessing\\image.py:1137: UserWarning: Found 1 invalid image filename(s) in x_col=\"filepaths\". These filename(s) will be ignored.\n",
      "  warnings.warn(\n"
     ]
    }
   ],
   "source": [
    "batch_size = 40\n",
    "img_size = (224, 224)\n",
    "channels = 3\n",
    "img_shape = (img_size[0], img_size[1], channels)\n",
    "ts_length = len(test_df)\n",
    "test_batch_size = test_batch_size = max(sorted([ts_length // n for n in range(1, ts_length + 1) if ts_length%n == 0 and ts_length/n <= 80]))\n",
    "test_steps = ts_length // test_batch_size\n",
    "def scalar(img):\n",
    "    return img\n",
    "tr_gen = ImageDataGenerator(preprocessing_function= scalar, horizontal_flip= True)\n",
    "ts_gen = ImageDataGenerator(preprocessing_function= scalar)\n",
    "train_gen = tr_gen.flow_from_dataframe( train_df, x_col= 'filepaths', y_col= 'labels', target_size= img_size, class_mode= 'categorical',\n",
    "                                    color_mode= 'rgb', shuffle= True, batch_size= batch_size)\n",
    "valid_gen = ts_gen.flow_from_dataframe( valid_df, x_col= 'filepaths', y_col= 'labels', target_size= img_size, class_mode= 'categorical',\n",
    "                                    color_mode= 'rgb', shuffle= True, batch_size= batch_size)\n",
    "test_gen = ts_gen.flow_from_dataframe( test_df, x_col= 'filepaths', y_col= 'labels', target_size= img_size, class_mode= 'categorical',\n",
    "                                    color_mode= 'rgb', shuffle= False, batch_size= test_batch_size)"
   ]
  },
  {
   "cell_type": "code",
   "execution_count": 24,
   "metadata": {},
   "outputs": [
    {
     "name": "stdout",
     "output_type": "stream",
     "text": [
      "Model: \"sequential_4\"\n",
      "_________________________________________________________________\n",
      " Layer (type)                Output Shape              Param #   \n",
      "=================================================================\n",
      " efficientnetb3 (Functional)  (None, 1536)             10783535  \n",
      "                                                                 \n",
      " batch_normalization_4 (Batc  (None, 1536)             6144      \n",
      " hNormalization)                                                 \n",
      "                                                                 \n",
      " dense_8 (Dense)             (None, 256)               393472    \n",
      "                                                                 \n",
      " dropout_4 (Dropout)         (None, 256)               0         \n",
      "                                                                 \n",
      " dense_9 (Dense)             (None, 3)                 771       \n",
      "                                                                 \n",
      "=================================================================\n",
      "Total params: 11,183,922\n",
      "Trainable params: 11,093,547\n",
      "Non-trainable params: 90,375\n",
      "_________________________________________________________________\n"
     ]
    }
   ],
   "source": [
    "img_size = (224, 224)\n",
    "channels = 3\n",
    "img_shape = (img_size[0], img_size[1], channels)\n",
    "class_count = len(list(train_gen.class_indices.keys())) # to define number of classes in dense layer\n",
    "\n",
    "# create pre-trained model\n",
    "base_model = tf.keras.applications.efficientnet.EfficientNetB3(include_top= False, weights= \"imagenet\", input_shape= img_shape, pooling= 'max')\n",
    "\n",
    "model = Sequential([\n",
    "    base_model,\n",
    "    BatchNormalization(axis= -1, momentum= 0.99, epsilon= 0.001),\n",
    "    Dense(256, kernel_regularizer= regularizers.l2(l= 0.016), activity_regularizer= regularizers.l1(0.006),\n",
    "                bias_regularizer= regularizers.l1(0.006), activation= 'relu'),\n",
    "    Dropout(rate= 0.45, seed= 123),\n",
    "    Dense(class_count, activation= 'softmax')\n",
    "])\n",
    "\n",
    "model.compile(Adamax(learning_rate= 0.001), loss= 'categorical_crossentropy', metrics= ['accuracy'])\n",
    "\n",
    "model.summary()"
   ]
  },
  {
   "cell_type": "code",
   "execution_count": 25,
   "metadata": {},
   "outputs": [
    {
     "name": "stdout",
     "output_type": "stream",
     "text": [
      "47/47 [==============================] - 1674s 34s/step - loss: 7.4006 - accuracy: 0.8686 - val_loss: 8.0726 - val_accuracy: 0.5542\n"
     ]
    }
   ],
   "source": [
    "batch_size = 100\n",
    "hist = model.fit(train_gen,\n",
    "                 steps_per_epoch=train_gen.samples//batch_size,\n",
    "                 validation_data=valid_gen,\n",
    "                 validation_steps=valid_gen.samples//batch_size,\n",
    "                 epochs=1)"
   ]
  },
  {
   "cell_type": "code",
   "execution_count": 27,
   "metadata": {},
   "outputs": [
    {
     "name": "stdout",
     "output_type": "stream",
     "text": [
      "120/120 [==============================] - 428s 4s/step - loss: 7.7507 - accuracy: 0.6178\n",
      "15/15 [==============================] - 54s 4s/step - loss: 7.7864 - accuracy: 0.6133\n",
      "601/601 [==============================] - 58s 96ms/step - loss: 7.7084 - accuracy: 0.6240\n",
      "Train Loss:  7.75068473815918\n",
      "Train Accuracy:  0.6178370714187622\n",
      "--------------------\n",
      "Validation Loss:  7.786435604095459\n",
      "Validation Accuracy:  0.6133333444595337\n",
      "--------------------\n",
      "Test Loss:  7.708428859710693\n",
      "Test Accuracy:  0.6239600777626038\n"
     ]
    }
   ],
   "source": [
    "train_score = model.evaluate(train_gen)\n",
    "valid_score = model.evaluate(valid_gen)\n",
    "test_score = model.evaluate(test_gen)\n",
    "\n",
    "print(\"Train Loss: \", train_score[0])\n",
    "print(\"Train Accuracy: \", train_score[1])\n",
    "print('-' * 20)\n",
    "print(\"Validation Loss: \", valid_score[0])\n",
    "print(\"Validation Accuracy: \", valid_score[1])\n",
    "print('-' * 20)\n",
    "print(\"Test Loss: \", test_score[0])\n",
    "print(\"Test Accuracy: \", test_score[1])"
   ]
  },
  {
   "cell_type": "code",
   "execution_count": 28,
   "metadata": {},
   "outputs": [
    {
     "name": "stderr",
     "output_type": "stream",
     "text": [
      "C:\\Users\\Dhruv Kothari\\AppData\\Local\\Temp\\ipykernel_22580\\2659987924.py:3: UserWarning: `Model.predict_generator` is deprecated and will be removed in a future version. Please use `Model.predict`, which supports generators.\n",
      "  Y_pred = model.predict_generator(test_gen)\n"
     ]
    },
    {
     "name": "stdout",
     "output_type": "stream",
     "text": [
      "[0 2 1 2 2 2 2 1 2 2 2 0 1 2 2 2 2 1 1 2 0 2 0 2 2 0 2 2 1 2 2 1 0 1 2 1 2\n",
      " 1 1 2 0 0 1 1 1 0 2 1 0 2 2 2 0 0 2 2 1 1 2 1 2 0 2 2 2 2 0 0 2 0 1 0 1 2\n",
      " 2 2 2 2 2 0 2 2 2 2 0 1 1 1 2 2 2 2 1 2 2 2 2 2 0 1 1 0 2 2 2 1 2 1 2 1 2\n",
      " 1 2 2 2 1 2 2 2 0 2 1 1 0 1 0 2 2 1 2 2 2 2 0 2 2 2 0 1 2 1 2 1 2 1 2 2 2\n",
      " 2 2 2 2 2 2 2 1 1 1 0 2 2 0 2 0 1 1 2 2 2 2 2 0 2 1 2 2 2 2 2 1 2 0 2 2 2\n",
      " 2 1 2 1 0 1 0 2 1 2 1 0 2 1 2 0 2 0 2 0 2 0 0 0 0 0 2 1 2 2 2 1 2 1 1 2 2\n",
      " 2 2 2 2 0 0 1 2 2 2 0 2 0 0 2 2 2 2 0 1 2 0 0 0 1 0 2 2 0 2 2 1 2 1 1 1 2\n",
      " 2 1 1 2 2 2 2 0 2 0 2 2 1 2 2 1 2 2 2 2 2 2 1 2 2 2 1 2 2 2 0 2 1 1 2 2 0\n",
      " 1 1 2 2 2 2 2 1 2 0 2 2 2 2 2 1 0 2 2 2 2 2 2 2 1 2 2 1 2 2 2 2 2 0 0 1 0\n",
      " 1 1 2 2 2 0 2 1 0 1 2 0 2 0 1 2 2 1 2 2 0 0 1 2 2 2 0 2 2 0 2 2 1 0 2 2 0\n",
      " 1 0 2 2 0 2 1 2 1 2 0 2 2 0 2 1 2 2 2 2 0 2 0 2 2 2 2 1 0 1 0 1 1 2 2 2 2\n",
      " 1 2 2 2 1 0 0 0 1 0 2 2 1 2 1 0 1 2 2 2 2 1 2 1 1 0 2 2 2 0 0 2 2 2 0 2 2\n",
      " 2 1 2 1 1 0 2 2 0 2 2 2 2 2 1 2 1 1 1 2 0 2 2 2 2 2 1 2 0 2 1 2 2 1 0 0 2\n",
      " 2 0 2 2 2 2 1 2 2 1 1 2 2 0 2 2 1 1 1 2 2 2 2 2 2 0 2 0 2 2 1 0 2 1 1 1 0\n",
      " 1 2 2 0 0 1 0 2 0 2 1 2 1 2 2 0 2 1 2 2 2 2 2 1 1 2 2 2 2 0 1 2 0 2 2 2 0\n",
      " 1 2 2 1 0 0 1 0 0 1 2 2 2 0 2 2 2 0 2 2 2 1 2 0 2 1 0 1 1 2 2 0 0 2 0 2 2\n",
      " 1 1 0 1 2 2 2 2 2]\n"
     ]
    }
   ],
   "source": [
    "batch_size = 100\n",
    "target_names = ['adenocarcinoma', 'benign', 'squamous cell carcinoma']\n",
    "Y_pred = model.predict_generator(test_gen)\n",
    "y_pred = np.argmax(Y_pred, axis=1)\n",
    "print(y_pred)"
   ]
  },
  {
   "cell_type": "code",
   "execution_count": 29,
   "metadata": {},
   "outputs": [],
   "source": [
    "cm = confusion_matrix(test_gen.classes, y_pred)\n",
    "\n",
    "def plot_confusion_matrix(cm, classes, normalize=False, title='Confusion Matrix', cmap = plt.cm.Blues):\n",
    "  plt.figure(figsize=(10, 10))\n",
    "  plt.imshow(cm, interpolation='nearest', cmap=cmap)\n",
    "  plt.title(title)\n",
    "  plt.colorbar()\n",
    "  tick_marks = np.arange(len(classes))\n",
    "  plt.xticks(tick_marks, classes, rotation=45)\n",
    "  plt.yticks(tick_marks, classes)\n",
    "\n",
    "  if normalize:\n",
    "    cm = cm.astype('float') / cm.sum(axis=1)[:, np.newaxis]\n",
    "    print('Normalized Confusion Matrix')\n",
    "  else:\n",
    "    print('Confusion Matrix, Without Normalization')\n",
    "  \n",
    "  print(cm)\n",
    "\n",
    "  thresh = cm.max() / 2.\n",
    "  for i, j in itertools.product(range(cm.shape[0]), range(cm.shape[1])):\n",
    "    plt.text(j, i, cm[i, j], horizontalalignment='center', color = 'white' if cm[i, j] > thresh else 'black')\n",
    "\n",
    "  plt.tight_layout()\n",
    "  plt.ylabel('True Label')\n",
    "  plt.xlabel('Predicted Label')"
   ]
  },
  {
   "cell_type": "code",
   "execution_count": 30,
   "metadata": {},
   "outputs": [
    {
     "name": "stdout",
     "output_type": "stream",
     "text": [
      "Confusion Matrix, Without Normalization\n",
      "[[ 51  18 132]\n",
      " [ 70 124   6]\n",
      " [  0   0 200]]\n"
     ]
    },
    {
     "data": {
      "image/png": "[encoded data removed]",
      "text/plain": [
       "<Figure size 1000x1000 with 2 Axes>"
      ]
     },
     "metadata": {},
     "output_type": "display_data"
    }
   ],
   "source": [
    "plot_confusion_matrix(cm=cm, classes=target_names, title = 'Confusion Matrix')"
   ]
  },
  {
   "cell_type": "code",
   "execution_count": 31,
   "metadata": {},
   "outputs": [
    {
     "name": "stdout",
     "output_type": "stream",
     "text": [
      "                         precision    recall  f1-score   support\n",
      "\n",
      "         adenocarcinoma       0.42      0.25      0.32       201\n",
      "                 benign       0.87      0.62      0.73       200\n",
      "squamous cell carcinoma       0.59      1.00      0.74       200\n",
      "\n",
      "               accuracy                           0.62       601\n",
      "              macro avg       0.63      0.62      0.60       601\n",
      "           weighted avg       0.63      0.62      0.59       601\n",
      "\n"
     ]
    }
   ],
   "source": [
    "from sklearn.metrics import classification_report\n",
    "print(classification_report(test_gen.classes, y_pred, target_names=target_names))"
   ]
  },
  {
   "cell_type": "code",
   "execution_count": null,
   "metadata": {},
   "outputs": [],
   "source": []
  }
 ],
 "metadata": {
  "kernelspec": {
   "display_name": "Python 3",
   "language": "python",
   "name": "python3"
  },
  "language_info": {
   "codemirror_mode": {
    "name": "ipython",
    "version": 3
   },
   "file_extension": ".py",
   "mimetype": "text/x-python",
   "name": "python",
   "nbconvert_exporter": "python",
   "pygments_lexer": "ipython3",
   "version": "3.10.11"
  },
  "orig_nbformat": 4
 },
 "nbformat": 4,
 "nbformat_minor": 2
}
